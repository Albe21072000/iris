{
 "cells": [
  {
   "cell_type": "code",
   "execution_count": 1,
   "metadata": {
    "collapsed": true
   },
   "outputs": [],
   "source": [
    "import pandas as pd\n",
    "import matplotlib.pyplot as plt\n",
    "import seaborn as sns\n",
    "import sklearn.neighbors\n",
    "sns.set()\n",
    "from sklearn.model_selection import train_test_split\n",
    "from sklearn.ensemble import RandomForestClassifier\n",
    "from sklearn import *\n",
    "from sklearn.preprocessing import LabelEncoder\n",
    "from sklearn.metrics import confusion_matrix"
   ]
  },
  {
   "cell_type": "code",
   "execution_count": 2,
   "metadata": {
    "collapsed": false
   },
   "outputs": [
    {
     "data": {
      "text/html": [
       "<div>\n",
       "<style scoped>\n",
       "    .dataframe tbody tr th:only-of-type {\n",
       "        vertical-align: middle;\n",
       "    }\n",
       "\n",
       "    .dataframe tbody tr th {\n",
       "        vertical-align: top;\n",
       "    }\n",
       "\n",
       "    .dataframe thead th {\n",
       "        text-align: right;\n",
       "    }\n",
       "</style>\n",
       "<table border=\"1\" class=\"dataframe\">\n",
       "  <thead>\n",
       "    <tr style=\"text-align: right;\">\n",
       "      <th></th>\n",
       "      <th>Unnamed: 0</th>\n",
       "      <th>X1</th>\n",
       "      <th>age</th>\n",
       "      <th>gender</th>\n",
       "      <th>height</th>\n",
       "      <th>weight</th>\n",
       "      <th>steps</th>\n",
       "      <th>hear_rate</th>\n",
       "      <th>calories</th>\n",
       "      <th>distance</th>\n",
       "      <th>entropy_heart</th>\n",
       "      <th>entropy_setps</th>\n",
       "      <th>resting_heart</th>\n",
       "      <th>corr_heart_steps</th>\n",
       "      <th>norm_heart</th>\n",
       "      <th>intensity_karvonen</th>\n",
       "      <th>sd_norm_heart</th>\n",
       "      <th>steps_times_distance</th>\n",
       "      <th>device</th>\n",
       "      <th>activity</th>\n",
       "    </tr>\n",
       "  </thead>\n",
       "  <tbody>\n",
       "    <tr>\n",
       "      <th>0</th>\n",
       "      <td>1</td>\n",
       "      <td>1</td>\n",
       "      <td>20</td>\n",
       "      <td>1</td>\n",
       "      <td>168.0</td>\n",
       "      <td>65.4</td>\n",
       "      <td>10.771429</td>\n",
       "      <td>78.531302</td>\n",
       "      <td>0.344533</td>\n",
       "      <td>0.008327</td>\n",
       "      <td>6.221612</td>\n",
       "      <td>6.116349</td>\n",
       "      <td>59.0</td>\n",
       "      <td>1.000000</td>\n",
       "      <td>19.531302</td>\n",
       "      <td>0.138520</td>\n",
       "      <td>1.000000</td>\n",
       "      <td>0.089692</td>\n",
       "      <td>apple watch</td>\n",
       "      <td>Lying</td>\n",
       "    </tr>\n",
       "    <tr>\n",
       "      <th>1</th>\n",
       "      <td>2</td>\n",
       "      <td>2</td>\n",
       "      <td>20</td>\n",
       "      <td>1</td>\n",
       "      <td>168.0</td>\n",
       "      <td>65.4</td>\n",
       "      <td>11.475325</td>\n",
       "      <td>78.453390</td>\n",
       "      <td>3.287625</td>\n",
       "      <td>0.008896</td>\n",
       "      <td>6.221612</td>\n",
       "      <td>6.116349</td>\n",
       "      <td>59.0</td>\n",
       "      <td>1.000000</td>\n",
       "      <td>19.453390</td>\n",
       "      <td>0.137967</td>\n",
       "      <td>1.000000</td>\n",
       "      <td>0.102088</td>\n",
       "      <td>apple watch</td>\n",
       "      <td>Lying</td>\n",
       "    </tr>\n",
       "    <tr>\n",
       "      <th>2</th>\n",
       "      <td>3</td>\n",
       "      <td>3</td>\n",
       "      <td>20</td>\n",
       "      <td>1</td>\n",
       "      <td>168.0</td>\n",
       "      <td>65.4</td>\n",
       "      <td>12.179221</td>\n",
       "      <td>78.540825</td>\n",
       "      <td>9.484000</td>\n",
       "      <td>0.009466</td>\n",
       "      <td>6.221612</td>\n",
       "      <td>6.116349</td>\n",
       "      <td>59.0</td>\n",
       "      <td>1.000000</td>\n",
       "      <td>19.540825</td>\n",
       "      <td>0.138587</td>\n",
       "      <td>1.000000</td>\n",
       "      <td>0.115287</td>\n",
       "      <td>apple watch</td>\n",
       "      <td>Lying</td>\n",
       "    </tr>\n",
       "    <tr>\n",
       "      <th>3</th>\n",
       "      <td>4</td>\n",
       "      <td>4</td>\n",
       "      <td>20</td>\n",
       "      <td>1</td>\n",
       "      <td>168.0</td>\n",
       "      <td>65.4</td>\n",
       "      <td>12.883117</td>\n",
       "      <td>78.628260</td>\n",
       "      <td>10.154556</td>\n",
       "      <td>0.010035</td>\n",
       "      <td>6.221612</td>\n",
       "      <td>6.116349</td>\n",
       "      <td>59.0</td>\n",
       "      <td>1.000000</td>\n",
       "      <td>19.628260</td>\n",
       "      <td>0.139208</td>\n",
       "      <td>1.000000</td>\n",
       "      <td>0.129286</td>\n",
       "      <td>apple watch</td>\n",
       "      <td>Lying</td>\n",
       "    </tr>\n",
       "    <tr>\n",
       "      <th>4</th>\n",
       "      <td>5</td>\n",
       "      <td>5</td>\n",
       "      <td>20</td>\n",
       "      <td>1</td>\n",
       "      <td>168.0</td>\n",
       "      <td>65.4</td>\n",
       "      <td>13.587013</td>\n",
       "      <td>78.715695</td>\n",
       "      <td>10.825111</td>\n",
       "      <td>0.010605</td>\n",
       "      <td>6.221612</td>\n",
       "      <td>6.116349</td>\n",
       "      <td>59.0</td>\n",
       "      <td>0.982816</td>\n",
       "      <td>19.715695</td>\n",
       "      <td>0.139828</td>\n",
       "      <td>0.241567</td>\n",
       "      <td>0.144088</td>\n",
       "      <td>apple watch</td>\n",
       "      <td>Lying</td>\n",
       "    </tr>\n",
       "  </tbody>\n",
       "</table>\n",
       "</div>"
      ],
      "text/plain": [
       "   Unnamed: 0  X1  age  gender  height  weight      steps  hear_rate  \\\n",
       "0           1   1   20       1   168.0    65.4  10.771429  78.531302   \n",
       "1           2   2   20       1   168.0    65.4  11.475325  78.453390   \n",
       "2           3   3   20       1   168.0    65.4  12.179221  78.540825   \n",
       "3           4   4   20       1   168.0    65.4  12.883117  78.628260   \n",
       "4           5   5   20       1   168.0    65.4  13.587013  78.715695   \n",
       "\n",
       "    calories  distance  entropy_heart  entropy_setps  resting_heart  \\\n",
       "0   0.344533  0.008327       6.221612       6.116349           59.0   \n",
       "1   3.287625  0.008896       6.221612       6.116349           59.0   \n",
       "2   9.484000  0.009466       6.221612       6.116349           59.0   \n",
       "3  10.154556  0.010035       6.221612       6.116349           59.0   \n",
       "4  10.825111  0.010605       6.221612       6.116349           59.0   \n",
       "\n",
       "   corr_heart_steps  norm_heart  intensity_karvonen  sd_norm_heart  \\\n",
       "0          1.000000   19.531302            0.138520       1.000000   \n",
       "1          1.000000   19.453390            0.137967       1.000000   \n",
       "2          1.000000   19.540825            0.138587       1.000000   \n",
       "3          1.000000   19.628260            0.139208       1.000000   \n",
       "4          0.982816   19.715695            0.139828       0.241567   \n",
       "\n",
       "   steps_times_distance       device activity  \n",
       "0              0.089692  apple watch    Lying  \n",
       "1              0.102088  apple watch    Lying  \n",
       "2              0.115287  apple watch    Lying  \n",
       "3              0.129286  apple watch    Lying  \n",
       "4              0.144088  apple watch    Lying  "
      ]
     },
     "execution_count": 2,
     "metadata": {},
     "output_type": "execute_result"
    }
   ],
   "source": [
    "data = pd.read_csv(r\"C:\\Users\\albeb\\Downloads\\aw_fb_data.csv\\aw_fb_data.csv\")\n",
    "data.head()"
   ]
  },
  {
   "cell_type": "markdown",
   "metadata": {
    "collapsed": false
   },
   "source": [
    "## Analisi esplorativa"
   ]
  },
  {
   "cell_type": "code",
   "execution_count": 3,
   "metadata": {
    "collapsed": false
   },
   "outputs": [
    {
     "data": {
      "text/plain": [
       "<Axes: xlabel='gender'>"
      ]
     },
     "execution_count": 3,
     "metadata": {},
     "output_type": "execute_result"
    },
    {
     "data": {
      "image/png": "[encoded data removed]",
      "text/plain": [
       "<Figure size 640x480 with 1 Axes>"
      ]
     },
     "metadata": {},
     "output_type": "display_data"
    }
   ],
   "source": [
    "data['gender'].value_counts().plot(kind='bar')"
   ]
  },
  {
   "cell_type": "code",
   "execution_count": 4,
   "metadata": {
    "collapsed": false
   },
   "outputs": [
    {
     "data": {
      "text/plain": [
       "<Axes: ylabel='count'>"
      ]
     },
     "execution_count": 4,
     "metadata": {},
     "output_type": "execute_result"
    },
    {
     "data": {
      "image/png": "[encoded data removed]",
      "text/plain": [
       "<Figure size 640x480 with 1 Axes>"
      ]
     },
     "metadata": {},
     "output_type": "display_data"
    }
   ],
   "source": [
    "data['gender'].value_counts().plot(kind='pie',autopct='%.2f')"
   ]
  },
  {
   "cell_type": "code",
   "execution_count": 5,
   "metadata": {
    "collapsed": false
   },
   "outputs": [
    {
     "data": {
      "text/plain": [
       "<Axes: xlabel='device'>"
      ]
     },
     "execution_count": 5,
     "metadata": {},
     "output_type": "execute_result"
    },
    {
     "data": {
      "image/png": "[encoded data removed]",
      "text/plain": [
       "<Figure size 640x480 with 1 Axes>"
      ]
     },
     "metadata": {},
     "output_type": "display_data"
    }
   ],
   "source": [
    "data['device'].value_counts().plot(kind='bar')"
   ]
  },
  {
   "cell_type": "code",
   "execution_count": 6,
   "metadata": {
    "collapsed": false
   },
   "outputs": [
    {
     "data": {
      "text/plain": [
       "<Axes: xlabel='age'>"
      ]
     },
     "execution_count": 6,
     "metadata": {},
     "output_type": "execute_result"
    },
    {
     "data": {
      "image/png": "[encoded data removed]",
      "text/plain": [
       "<Figure size 640x480 with 1 Axes>"
      ]
     },
     "metadata": {},
     "output_type": "display_data"
    }
   ],
   "source": [
    "data['age'].value_counts().plot(kind='bar')"
   ]
  },
  {
   "cell_type": "code",
   "execution_count": 7,
   "metadata": {
    "collapsed": false
   },
   "outputs": [
    {
     "data": {
      "text/plain": [
       "<Axes: ylabel='count'>"
      ]
     },
     "execution_count": 7,
     "metadata": {},
     "output_type": "execute_result"
    },
    {
     "data": {
      "image/png": "[encoded data removed]",
      "text/plain": [
       "<Figure size 640x480 with 1 Axes>"
      ]
     },
     "metadata": {},
     "output_type": "display_data"
    }
   ],
   "source": [
    "data['activity'].value_counts().plot(kind='pie',autopct='%.2f')"
   ]
  },
  {
   "cell_type": "code",
   "execution_count": 8,
   "metadata": {
    "collapsed": false
   },
   "outputs": [
    {
     "data": {
      "text/plain": [
       "<Axes: xlabel='activity'>"
      ]
     },
     "execution_count": 8,
     "metadata": {},
     "output_type": "execute_result"
    },
    {
     "data": {
      "image/png": "[encoded data removed]",
      "text/plain": [
       "<Figure size 640x480 with 1 Axes>"
      ]
     },
     "metadata": {},
     "output_type": "display_data"
    }
   ],
   "source": [
    "data['activity'].value_counts().plot(kind='bar')"
   ]
  },
  {
   "cell_type": "code",
   "execution_count": 9,
   "metadata": {
    "collapsed": false
   },
   "outputs": [
    {
     "data": {
      "text/plain": [
       "<Axes: >"
      ]
     },
     "execution_count": 9,
     "metadata": {},
     "output_type": "execute_result"
    },
    {
     "data": {
      "image/png": "[encoded data removed]",
      "text/plain": [
       "<Figure size 640x480 with 1 Axes>"
      ]
     },
     "metadata": {},
     "output_type": "display_data"
    }
   ],
   "source": [
    "sns.boxplot(data['age'])"
   ]
  },
  {
   "cell_type": "code",
   "execution_count": 10,
   "metadata": {
    "collapsed": false
   },
   "outputs": [
    {
     "data": {
      "text/plain": [
       "<Axes: >"
      ]
     },
     "execution_count": 10,
     "metadata": {},
     "output_type": "execute_result"
    },
    {
     "data": {
      "image/png": "[encoded data removed]",
      "text/plain": [
       "<Figure size 640x480 with 1 Axes>"
      ]
     },
     "metadata": {},
     "output_type": "display_data"
    }
   ],
   "source": [
    "sns.boxplot(data['weight'])"
   ]
  },
  {
   "cell_type": "code",
   "execution_count": 11,
   "metadata": {
    "collapsed": false
   },
   "outputs": [
    {
     "data": {
      "text/plain": [
       "<Axes: xlabel='weight', ylabel='height'>"
      ]
     },
     "execution_count": 11,
     "metadata": {},
     "output_type": "execute_result"
    },
    {
     "data": {
      "image/png": "[encoded data removed]",
      "text/plain": [
       "<Figure size 640x480 with 1 Axes>"
      ]
     },
     "metadata": {},
     "output_type": "display_data"
    }
   ],
   "source": [
    "sns.scatterplot(x=data['weight'],y=data['height'])"
   ]
  },
  {
   "cell_type": "code",
   "execution_count": 12,
   "metadata": {
    "collapsed": false
   },
   "outputs": [],
   "source": [
    "df= data.drop(['device','Unnamed: 0','X1','entropy_heart', 'entropy_setps',\n",
    "                'corr_heart_steps', 'norm_heart', 'intensity_karvonen',\n",
    "                'sd_norm_heart', 'steps_times_distance'], axis=1)"
   ]
  },
  {
   "cell_type": "code",
   "execution_count": 13,
   "metadata": {
    "collapsed": false
   },
   "outputs": [
    {
     "data": {
      "text/html": [
       "<div>\n",
       "<style scoped>\n",
       "    .dataframe tbody tr th:only-of-type {\n",
       "        vertical-align: middle;\n",
       "    }\n",
       "\n",
       "    .dataframe tbody tr th {\n",
       "        vertical-align: top;\n",
       "    }\n",
       "\n",
       "    .dataframe thead th {\n",
       "        text-align: right;\n",
       "    }\n",
       "</style>\n",
       "<table border=\"1\" class=\"dataframe\">\n",
       "  <thead>\n",
       "    <tr style=\"text-align: right;\">\n",
       "      <th></th>\n",
       "      <th>age</th>\n",
       "      <th>gender</th>\n",
       "      <th>height</th>\n",
       "      <th>weight</th>\n",
       "      <th>steps</th>\n",
       "      <th>hear_rate</th>\n",
       "      <th>calories</th>\n",
       "      <th>distance</th>\n",
       "      <th>resting_heart</th>\n",
       "      <th>activity</th>\n",
       "    </tr>\n",
       "  </thead>\n",
       "  <tbody>\n",
       "    <tr>\n",
       "      <th>0</th>\n",
       "      <td>20</td>\n",
       "      <td>1</td>\n",
       "      <td>168.0</td>\n",
       "      <td>65.4</td>\n",
       "      <td>10.771429</td>\n",
       "      <td>78.531302</td>\n",
       "      <td>0.344533</td>\n",
       "      <td>0.008327</td>\n",
       "      <td>59.0</td>\n",
       "      <td>Lying</td>\n",
       "    </tr>\n",
       "    <tr>\n",
       "      <th>1</th>\n",
       "      <td>20</td>\n",
       "      <td>1</td>\n",
       "      <td>168.0</td>\n",
       "      <td>65.4</td>\n",
       "      <td>11.475325</td>\n",
       "      <td>78.453390</td>\n",
       "      <td>3.287625</td>\n",
       "      <td>0.008896</td>\n",
       "      <td>59.0</td>\n",
       "      <td>Lying</td>\n",
       "    </tr>\n",
       "    <tr>\n",
       "      <th>2</th>\n",
       "      <td>20</td>\n",
       "      <td>1</td>\n",
       "      <td>168.0</td>\n",
       "      <td>65.4</td>\n",
       "      <td>12.179221</td>\n",
       "      <td>78.540825</td>\n",
       "      <td>9.484000</td>\n",
       "      <td>0.009466</td>\n",
       "      <td>59.0</td>\n",
       "      <td>Lying</td>\n",
       "    </tr>\n",
       "    <tr>\n",
       "      <th>3</th>\n",
       "      <td>20</td>\n",
       "      <td>1</td>\n",
       "      <td>168.0</td>\n",
       "      <td>65.4</td>\n",
       "      <td>12.883117</td>\n",
       "      <td>78.628260</td>\n",
       "      <td>10.154556</td>\n",
       "      <td>0.010035</td>\n",
       "      <td>59.0</td>\n",
       "      <td>Lying</td>\n",
       "    </tr>\n",
       "    <tr>\n",
       "      <th>4</th>\n",
       "      <td>20</td>\n",
       "      <td>1</td>\n",
       "      <td>168.0</td>\n",
       "      <td>65.4</td>\n",
       "      <td>13.587013</td>\n",
       "      <td>78.715695</td>\n",
       "      <td>10.825111</td>\n",
       "      <td>0.010605</td>\n",
       "      <td>59.0</td>\n",
       "      <td>Lying</td>\n",
       "    </tr>\n",
       "  </tbody>\n",
       "</table>\n",
       "</div>"
      ],
      "text/plain": [
       "   age  gender  height  weight      steps  hear_rate   calories  distance  \\\n",
       "0   20       1   168.0    65.4  10.771429  78.531302   0.344533  0.008327   \n",
       "1   20       1   168.0    65.4  11.475325  78.453390   3.287625  0.008896   \n",
       "2   20       1   168.0    65.4  12.179221  78.540825   9.484000  0.009466   \n",
       "3   20       1   168.0    65.4  12.883117  78.628260  10.154556  0.010035   \n",
       "4   20       1   168.0    65.4  13.587013  78.715695  10.825111  0.010605   \n",
       "\n",
       "   resting_heart activity  \n",
       "0           59.0    Lying  \n",
       "1           59.0    Lying  \n",
       "2           59.0    Lying  \n",
       "3           59.0    Lying  \n",
       "4           59.0    Lying  "
      ]
     },
     "execution_count": 13,
     "metadata": {},
     "output_type": "execute_result"
    }
   ],
   "source": [
    "df.head()"
   ]
  },
  {
   "cell_type": "code",
   "execution_count": 14,
   "metadata": {
    "collapsed": false
   },
   "outputs": [
    {
     "data": {
      "text/html": [
       "<div>\n",
       "<style scoped>\n",
       "    .dataframe tbody tr th:only-of-type {\n",
       "        vertical-align: middle;\n",
       "    }\n",
       "\n",
       "    .dataframe tbody tr th {\n",
       "        vertical-align: top;\n",
       "    }\n",
       "\n",
       "    .dataframe thead th {\n",
       "        text-align: right;\n",
       "    }\n",
       "</style>\n",
       "<table border=\"1\" class=\"dataframe\">\n",
       "  <thead>\n",
       "    <tr style=\"text-align: right;\">\n",
       "      <th></th>\n",
       "      <th>age</th>\n",
       "      <th>gender</th>\n",
       "      <th>height</th>\n",
       "      <th>weight</th>\n",
       "      <th>steps</th>\n",
       "      <th>hear_rate</th>\n",
       "      <th>calories</th>\n",
       "      <th>distance</th>\n",
       "      <th>resting_heart</th>\n",
       "    </tr>\n",
       "  </thead>\n",
       "  <tbody>\n",
       "    <tr>\n",
       "      <th>count</th>\n",
       "      <td>6264.000000</td>\n",
       "      <td>6264.000000</td>\n",
       "      <td>6264.000000</td>\n",
       "      <td>6264.000000</td>\n",
       "      <td>6264.000000</td>\n",
       "      <td>6264.000000</td>\n",
       "      <td>6264.000000</td>\n",
       "      <td>6264.000000</td>\n",
       "      <td>6264.000000</td>\n",
       "    </tr>\n",
       "    <tr>\n",
       "      <th>mean</th>\n",
       "      <td>29.158525</td>\n",
       "      <td>0.476533</td>\n",
       "      <td>169.709052</td>\n",
       "      <td>69.614464</td>\n",
       "      <td>109.562268</td>\n",
       "      <td>86.142331</td>\n",
       "      <td>19.471823</td>\n",
       "      <td>13.832555</td>\n",
       "      <td>65.869938</td>\n",
       "    </tr>\n",
       "    <tr>\n",
       "      <th>std</th>\n",
       "      <td>8.908978</td>\n",
       "      <td>0.499489</td>\n",
       "      <td>10.324698</td>\n",
       "      <td>13.451878</td>\n",
       "      <td>222.797908</td>\n",
       "      <td>28.648385</td>\n",
       "      <td>27.309765</td>\n",
       "      <td>45.941437</td>\n",
       "      <td>21.203017</td>\n",
       "    </tr>\n",
       "    <tr>\n",
       "      <th>min</th>\n",
       "      <td>18.000000</td>\n",
       "      <td>0.000000</td>\n",
       "      <td>143.000000</td>\n",
       "      <td>43.000000</td>\n",
       "      <td>1.000000</td>\n",
       "      <td>2.222222</td>\n",
       "      <td>0.056269</td>\n",
       "      <td>0.000440</td>\n",
       "      <td>3.000000</td>\n",
       "    </tr>\n",
       "    <tr>\n",
       "      <th>25%</th>\n",
       "      <td>23.000000</td>\n",
       "      <td>0.000000</td>\n",
       "      <td>160.000000</td>\n",
       "      <td>60.000000</td>\n",
       "      <td>5.159534</td>\n",
       "      <td>75.598079</td>\n",
       "      <td>0.735875</td>\n",
       "      <td>0.019135</td>\n",
       "      <td>58.134333</td>\n",
       "    </tr>\n",
       "    <tr>\n",
       "      <th>50%</th>\n",
       "      <td>28.000000</td>\n",
       "      <td>0.000000</td>\n",
       "      <td>168.000000</td>\n",
       "      <td>68.000000</td>\n",
       "      <td>10.092029</td>\n",
       "      <td>77.267680</td>\n",
       "      <td>4.000000</td>\n",
       "      <td>0.181719</td>\n",
       "      <td>75.000000</td>\n",
       "    </tr>\n",
       "    <tr>\n",
       "      <th>75%</th>\n",
       "      <td>33.000000</td>\n",
       "      <td>1.000000</td>\n",
       "      <td>180.000000</td>\n",
       "      <td>77.300000</td>\n",
       "      <td>105.847222</td>\n",
       "      <td>95.669118</td>\n",
       "      <td>20.500000</td>\n",
       "      <td>15.697188</td>\n",
       "      <td>76.138701</td>\n",
       "    </tr>\n",
       "    <tr>\n",
       "      <th>max</th>\n",
       "      <td>56.000000</td>\n",
       "      <td>1.000000</td>\n",
       "      <td>191.000000</td>\n",
       "      <td>115.000000</td>\n",
       "      <td>1714.000000</td>\n",
       "      <td>194.333333</td>\n",
       "      <td>97.500000</td>\n",
       "      <td>335.000000</td>\n",
       "      <td>155.000000</td>\n",
       "    </tr>\n",
       "  </tbody>\n",
       "</table>\n",
       "</div>"
      ],
      "text/plain": [
       "               age       gender       height       weight        steps  \\\n",
       "count  6264.000000  6264.000000  6264.000000  6264.000000  6264.000000   \n",
       "mean     29.158525     0.476533   169.709052    69.614464   109.562268   \n",
       "std       8.908978     0.499489    10.324698    13.451878   222.797908   \n",
       "min      18.000000     0.000000   143.000000    43.000000     1.000000   \n",
       "25%      23.000000     0.000000   160.000000    60.000000     5.159534   \n",
       "50%      28.000000     0.000000   168.000000    68.000000    10.092029   \n",
       "75%      33.000000     1.000000   180.000000    77.300000   105.847222   \n",
       "max      56.000000     1.000000   191.000000   115.000000  1714.000000   \n",
       "\n",
       "         hear_rate     calories     distance  resting_heart  \n",
       "count  6264.000000  6264.000000  6264.000000    6264.000000  \n",
       "mean     86.142331    19.471823    13.832555      65.869938  \n",
       "std      28.648385    27.309765    45.941437      21.203017  \n",
       "min       2.222222     0.056269     0.000440       3.000000  \n",
       "25%      75.598079     0.735875     0.019135      58.134333  \n",
       "50%      77.267680     4.000000     0.181719      75.000000  \n",
       "75%      95.669118    20.500000    15.697188      76.138701  \n",
       "max     194.333333    97.500000   335.000000     155.000000  "
      ]
     },
     "execution_count": 14,
     "metadata": {},
     "output_type": "execute_result"
    }
   ],
   "source": [
    "df.describe()"
   ]
  },
  {
   "cell_type": "code",
   "execution_count": null,
   "metadata": {
    "collapsed": false
   },
   "outputs": [
    {
     "data": {
      "text/plain": [
       "(array([1379.,    0.,    0.,    0.,  930.,    0.,    0.,    0.,  889.,\n",
       "           0.,    0.,    0.,  950.,    0.,    0.,    0., 1002.,    0.,\n",
       "           0., 1114.]),\n",
       " array([0.  , 0.25, 0.5 , 0.75, 1.  , 1.25, 1.5 , 1.75, 2.  , 2.25, 2.5 ,\n",
       "        2.75, 3.  , 3.25, 3.5 , 3.75, 4.  , 4.25, 4.5 , 4.75, 5.  ]),\n",
       " <BarContainer object of 20 artists>)"
      ]
     },
     "execution_count": 17,
     "metadata": {},
     "output_type": "execute_result"
    },
    {
     "data": {
      "image/png": "[encoded data removed]",
      "text/plain": [
       "<Figure size 432x288 with 1 Axes>"
      ]
     },
     "metadata": {},
     "output_type": "display_data"
    }
   ],
   "source": [
    "plt.hist(df[\"activity\"], 20,\n",
    "         histtype='bar',\n",
    "         facecolor='b',\n",
    "         alpha=0.5)"
   ]
  },
  {
   "cell_type": "code",
   "execution_count": 18,
   "metadata": {
    "collapsed": false
   },
   "outputs": [],
   "source": [
    "label_encoder=LabelEncoder()"
   ]
  },
  {
   "cell_type": "code",
   "execution_count": 19,
   "metadata": {
    "collapsed": false
   },
   "outputs": [],
   "source": [
    "encoder=label_encoder.fit(df['activity'])\n",
    "ac_data1=encoder.transform(df['activity'])"
   ]
  },
  {
   "cell_type": "code",
   "execution_count": 20,
   "metadata": {
    "collapsed": false
   },
   "outputs": [
    {
     "name": "stdout",
     "output_type": "stream",
     "text": [
      "{'Lying': 0, 'Running 3 METs': 1, 'Running 5 METs': 2, 'Running 7 METs': 3, 'Self Pace walk': 4, 'Sitting': 5}\n"
     ]
    }
   ],
   "source": [
    "mapping = dict(zip(encoder.classes_, encoder.transform(encoder.classes_)))\n",
    "print(mapping)"
   ]
  },
  {
   "cell_type": "code",
   "execution_count": 21,
   "metadata": {
    "collapsed": false
   },
   "outputs": [
    {
     "data": {
      "text/plain": [
       "age              0.005492\n",
       "gender          -0.007856\n",
       "height          -0.006379\n",
       "weight           0.000687\n",
       "steps            0.039420\n",
       "hear_rate        0.041103\n",
       "calories         0.044977\n",
       "distance         0.023214\n",
       "resting_heart   -0.015237\n",
       "activity         1.000000\n",
       "Name: activity, dtype: float64"
      ]
     },
     "execution_count": 21,
     "metadata": {},
     "output_type": "execute_result"
    }
   ],
   "source": [
    "df['activity']=ac_data1\n",
    "df.corr()['activity']"
   ]
  },
  {
   "cell_type": "code",
   "execution_count": 16,
   "metadata": {
    "collapsed": false
   },
   "outputs": [],
   "source": [
    "resp_var=df['activity']\n",
    "exp_var=df.drop(columns='activity')"
   ]
  },
  {
   "cell_type": "code",
   "execution_count": 17,
   "metadata": {
    "collapsed": false
   },
   "outputs": [
    {
     "data": {
      "text/html": [
       "<div>\n",
       "<style scoped>\n",
       "    .dataframe tbody tr th:only-of-type {\n",
       "        vertical-align: middle;\n",
       "    }\n",
       "\n",
       "    .dataframe tbody tr th {\n",
       "        vertical-align: top;\n",
       "    }\n",
       "\n",
       "    .dataframe thead th {\n",
       "        text-align: right;\n",
       "    }\n",
       "</style>\n",
       "<table border=\"1\" class=\"dataframe\">\n",
       "  <thead>\n",
       "    <tr style=\"text-align: right;\">\n",
       "      <th></th>\n",
       "      <th>age</th>\n",
       "      <th>gender</th>\n",
       "      <th>height</th>\n",
       "      <th>weight</th>\n",
       "      <th>steps</th>\n",
       "      <th>hear_rate</th>\n",
       "      <th>calories</th>\n",
       "      <th>distance</th>\n",
       "      <th>resting_heart</th>\n",
       "    </tr>\n",
       "  </thead>\n",
       "  <tbody>\n",
       "    <tr>\n",
       "      <th>0</th>\n",
       "      <td>20</td>\n",
       "      <td>1</td>\n",
       "      <td>168.0</td>\n",
       "      <td>65.4</td>\n",
       "      <td>10.771429</td>\n",
       "      <td>78.531302</td>\n",
       "      <td>0.344533</td>\n",
       "      <td>0.008327</td>\n",
       "      <td>59.0</td>\n",
       "    </tr>\n",
       "    <tr>\n",
       "      <th>1</th>\n",
       "      <td>20</td>\n",
       "      <td>1</td>\n",
       "      <td>168.0</td>\n",
       "      <td>65.4</td>\n",
       "      <td>11.475325</td>\n",
       "      <td>78.453390</td>\n",
       "      <td>3.287625</td>\n",
       "      <td>0.008896</td>\n",
       "      <td>59.0</td>\n",
       "    </tr>\n",
       "    <tr>\n",
       "      <th>2</th>\n",
       "      <td>20</td>\n",
       "      <td>1</td>\n",
       "      <td>168.0</td>\n",
       "      <td>65.4</td>\n",
       "      <td>12.179221</td>\n",
       "      <td>78.540825</td>\n",
       "      <td>9.484000</td>\n",
       "      <td>0.009466</td>\n",
       "      <td>59.0</td>\n",
       "    </tr>\n",
       "    <tr>\n",
       "      <th>3</th>\n",
       "      <td>20</td>\n",
       "      <td>1</td>\n",
       "      <td>168.0</td>\n",
       "      <td>65.4</td>\n",
       "      <td>12.883117</td>\n",
       "      <td>78.628260</td>\n",
       "      <td>10.154556</td>\n",
       "      <td>0.010035</td>\n",
       "      <td>59.0</td>\n",
       "    </tr>\n",
       "    <tr>\n",
       "      <th>4</th>\n",
       "      <td>20</td>\n",
       "      <td>1</td>\n",
       "      <td>168.0</td>\n",
       "      <td>65.4</td>\n",
       "      <td>13.587013</td>\n",
       "      <td>78.715695</td>\n",
       "      <td>10.825111</td>\n",
       "      <td>0.010605</td>\n",
       "      <td>59.0</td>\n",
       "    </tr>\n",
       "  </tbody>\n",
       "</table>\n",
       "</div>"
      ],
      "text/plain": [
       "   age  gender  height  weight      steps  hear_rate   calories  distance  \\\n",
       "0   20       1   168.0    65.4  10.771429  78.531302   0.344533  0.008327   \n",
       "1   20       1   168.0    65.4  11.475325  78.453390   3.287625  0.008896   \n",
       "2   20       1   168.0    65.4  12.179221  78.540825   9.484000  0.009466   \n",
       "3   20       1   168.0    65.4  12.883117  78.628260  10.154556  0.010035   \n",
       "4   20       1   168.0    65.4  13.587013  78.715695  10.825111  0.010605   \n",
       "\n",
       "   resting_heart  \n",
       "0           59.0  \n",
       "1           59.0  \n",
       "2           59.0  \n",
       "3           59.0  \n",
       "4           59.0  "
      ]
     },
     "execution_count": 17,
     "metadata": {},
     "output_type": "execute_result"
    }
   ],
   "source": [
    "exp_var.head()"
   ]
  },
  {
   "cell_type": "markdown",
   "metadata": {},
   "source": [
    "# Classificazione"
   ]
  },
  {
   "cell_type": "code",
   "execution_count": 25,
   "metadata": {
    "collapsed": false
   },
   "outputs": [],
   "source": [
    "X_train, X_test, y_train, y_test = train_test_split(exp_var, resp_var, test_size = 0.2)"
   ]
  },
  {
   "cell_type": "code",
   "execution_count": 26,
   "metadata": {
    "collapsed": false
   },
   "outputs": [],
   "source": [
    "def classificazione_previsione(model, explanatory_test, response_test):\n",
    "    predict_model = model.predict(explanatory_test)\n",
    "    predict_proba_model = model.predict_proba(explanatory_test)[:, 1]\n",
    "    print('Accuracy_model: ', metrics.accuracy_score(response_test, predict_model))\n",
    "    print(metrics.classification_report(response_test, predict_model))"
   ]
  },
  {
   "cell_type": "code",
   "execution_count": 27,
   "metadata": {
    "collapsed": false
   },
   "outputs": [
    {
     "data": {
      "text/plain": [
       "KNeighborsClassifier()"
      ]
     },
     "execution_count": 27,
     "metadata": {},
     "output_type": "execute_result"
    }
   ],
   "source": [
    "knn_classification=sklearn.neighbors.KNeighborsClassifier()\n",
    "knn_classification.fit(X_train,y_train)"
   ]
  },
  {
   "cell_type": "code",
   "execution_count": 28,
   "metadata": {
    "collapsed": false
   },
   "outputs": [
    {
     "name": "stdout",
     "output_type": "stream",
     "text": [
      "Accuracy_model:  0.6384676775738228\n",
      "              precision    recall  f1-score   support\n",
      "\n",
      "           0       0.57      0.65      0.61       292\n",
      "           1       0.67      0.69      0.68       200\n",
      "           2       0.64      0.73      0.68       175\n",
      "           3       0.75      0.71      0.73       211\n",
      "           4       0.71      0.75      0.73       177\n",
      "           5       0.49      0.33      0.39       198\n",
      "\n",
      "    accuracy                           0.64      1253\n",
      "   macro avg       0.64      0.64      0.64      1253\n",
      "weighted avg       0.63      0.64      0.63      1253\n",
      "\n"
     ]
    }
   ],
   "source": [
    "classificazione_previsione(knn_classification,X_test,y_test)"
   ]
  },
  {
   "cell_type": "code",
   "execution_count": 29,
   "metadata": {
    "collapsed": false
   },
   "outputs": [
    {
     "data": {
      "text/plain": [
       "DecisionTreeClassifier()"
      ]
     },
     "execution_count": 29,
     "metadata": {},
     "output_type": "execute_result"
    }
   ],
   "source": [
    "albero_dec=sklearn.tree.DecisionTreeClassifier()\n",
    "albero_dec.fit(X_train,y_train)"
   ]
  },
  {
   "cell_type": "code",
   "execution_count": 30,
   "metadata": {
    "collapsed": false
   },
   "outputs": [
    {
     "name": "stdout",
     "output_type": "stream",
     "text": [
      "Accuracy_model:  0.7573822825219473\n",
      "              precision    recall  f1-score   support\n",
      "\n",
      "           0       0.73      0.72      0.73       292\n",
      "           1       0.82      0.80      0.81       200\n",
      "           2       0.72      0.83      0.77       175\n",
      "           3       0.85      0.80      0.82       211\n",
      "           4       0.77      0.79      0.78       177\n",
      "           5       0.66      0.64      0.65       198\n",
      "\n",
      "    accuracy                           0.76      1253\n",
      "   macro avg       0.76      0.76      0.76      1253\n",
      "weighted avg       0.76      0.76      0.76      1253\n",
      "\n"
     ]
    }
   ],
   "source": [
    "classificazione_previsione(albero_dec,X_test,y_test)"
   ]
  },
  {
   "cell_type": "code",
   "execution_count": 31,
   "metadata": {
    "collapsed": false
   },
   "outputs": [
    {
     "data": {
      "text/plain": [
       "GradientBoostingClassifier()"
      ]
     },
     "execution_count": 31,
     "metadata": {},
     "output_type": "execute_result"
    }
   ],
   "source": [
    "model_gb = sklearn.ensemble.GradientBoostingClassifier()\n",
    "model_gb.fit(X_train,y_train)"
   ]
  },
  {
   "cell_type": "code",
   "execution_count": 32,
   "metadata": {
    "collapsed": false
   },
   "outputs": [
    {
     "name": "stdout",
     "output_type": "stream",
     "text": [
      "Accuracy_model:  0.6943335993615323\n",
      "              precision    recall  f1-score   support\n",
      "\n",
      "           0       0.63      0.70      0.67       292\n",
      "           1       0.74      0.70      0.72       200\n",
      "           2       0.65      0.78      0.71       175\n",
      "           3       0.81      0.73      0.77       211\n",
      "           4       0.71      0.72      0.72       177\n",
      "           5       0.67      0.54      0.59       198\n",
      "\n",
      "    accuracy                           0.69      1253\n",
      "   macro avg       0.70      0.70      0.70      1253\n",
      "weighted avg       0.70      0.69      0.69      1253\n",
      "\n"
     ]
    }
   ],
   "source": [
    "classificazione_previsione(model_gb,X_test,y_test)"
   ]
  },
  {
   "cell_type": "code",
   "execution_count": 33,
   "metadata": {
    "collapsed": false
   },
   "outputs": [],
   "source": [
    "attr=list(X_train.columns)"
   ]
  },
  {
   "cell_type": "code",
   "execution_count": 34,
   "metadata": {
    "collapsed": false
   },
   "outputs": [],
   "source": [
    "from sklearn.tree import _tree\n",
    "\n",
    "def tree_to_code(treein, feature_names):\n",
    "    tree_ = treein.tree_\n",
    "    feature_name = [\n",
    "        feature_names[i] if i != _tree.TREE_UNDEFINED else \"undefined!\"\n",
    "        for i in tree_.feature\n",
    "    ]\n",
    "    print(\"def tree({}):\".format(\", \".join(feature_names)))\n",
    "\n",
    "    def recurse(node, depth):\n",
    "        indent = \"  \" * depth\n",
    "        if tree_.feature[node] != _tree.TREE_UNDEFINED:\n",
    "            name = feature_name[node]\n",
    "            threshold = tree_.threshold[node]\n",
    "            print(\"{}if {} <= {}:\".format(indent, name, threshold))\n",
    "            recurse(tree_.children_left[node], depth + 1)\n",
    "            print(\"{}else:  # if {} > {}\".format(indent, name, threshold))\n",
    "            recurse(tree_.children_right[node], depth + 1)\n",
    "        else:\n",
    "            print(\"{}return {}\".format(indent, tree_.value[node]))\n",
    "\n",
    "    recurse(0, 1)"
   ]
  },
  {
   "cell_type": "code",
   "execution_count": 40,
   "metadata": {
    "collapsed": false
   },
   "outputs": [
    {
     "data": {
      "text/plain": [
       "RandomForestClassifier()"
      ]
     },
     "execution_count": 40,
     "metadata": {},
     "output_type": "execute_result"
    }
   ],
   "source": [
    "rndfor= sklearn.ensemble.RandomForestClassifier()\n",
    "rndfor.fit(X_train,y_train)"
   ]
  },
  {
   "cell_type": "code",
   "execution_count": 41,
   "metadata": {
    "collapsed": false
   },
   "outputs": [
    {
     "name": "stdout",
     "output_type": "stream",
     "text": [
      "Accuracy_model:  0.8443735035913806\n",
      "              precision    recall  f1-score   support\n",
      "\n",
      "           0       0.84      0.80      0.82       292\n",
      "           1       0.89      0.85      0.87       200\n",
      "           2       0.82      0.86      0.84       175\n",
      "           3       0.92      0.90      0.91       211\n",
      "           4       0.87      0.88      0.87       177\n",
      "           5       0.74      0.80      0.77       198\n",
      "\n",
      "    accuracy                           0.84      1253\n",
      "   macro avg       0.85      0.85      0.85      1253\n",
      "weighted avg       0.85      0.84      0.84      1253\n",
      "\n"
     ]
    }
   ],
   "source": [
    "classificazione_previsione(rndfor,X_test,y_test)"
   ]
  },
  {
   "cell_type": "code",
   "execution_count": 38,
   "metadata": {
    "collapsed": false
   },
   "outputs": [
    {
     "data": {
      "text/plain": [
       "Text(0.5, 1.0, 'Matrice di Confusione')"
      ]
     },
     "execution_count": 38,
     "metadata": {},
     "output_type": "execute_result"
    },
    {
     "data": {
      "image/png": "[encoded data removed]",
      "text/plain": [
       "<Figure size 432x288 with 2 Axes>"
      ]
     },
     "metadata": {},
     "output_type": "display_data"
    }
   ],
   "source": [
    "y_predetto = rndfor.predict(X_test)\n",
    "cm_xgb = confusion_matrix(y_test, y_predetto)\n",
    "sns.heatmap(cm_xgb, annot = True, fmt = 'g', cmap=\"autumn\")\n",
    "plt.title(\"Matrice di Confusione\", fontsize = 20)"
   ]
  },
  {
   "cell_type": "code",
   "execution_count": 39,
   "metadata": {
    "collapsed": false
   },
   "outputs": [
    {
     "data": {
      "text/plain": [
       "MLPClassifier()"
      ]
     },
     "execution_count": 39,
     "metadata": {},
     "output_type": "execute_result"
    }
   ],
   "source": [
    "mlperc= sklearn.neural_network.MLPClassifier()\n",
    "mlperc.fit(X_train,y_train)"
   ]
  },
  {
   "cell_type": "code",
   "execution_count": 134,
   "metadata": {
    "collapsed": false
   },
   "outputs": [
    {
     "name": "stdout",
     "output_type": "stream",
     "text": [
      "Accuracy_model:  0.41500399042298486\n",
      "              precision    recall  f1-score   support\n",
      "\n",
      "           0       0.36      0.55      0.44       260\n",
      "           1       0.57      0.13      0.21       188\n",
      "           2       0.41      0.47      0.44       202\n",
      "           3       0.47      0.72      0.57       229\n",
      "           4       0.40      0.43      0.41       199\n",
      "           5       0.40      0.03      0.06       175\n",
      "\n",
      "    accuracy                           0.42      1253\n",
      "   macro avg       0.44      0.39      0.36      1253\n",
      "weighted avg       0.43      0.42      0.37      1253\n",
      "\n"
     ]
    }
   ],
   "source": [
    "classificazione_previsione(mlperc,X_test,y_test)"
   ]
  },
  {
   "cell_type": "code",
   "execution_count": 257,
   "metadata": {
    "collapsed": false
   },
   "outputs": [
    {
     "data": {
      "text/plain": [
       "['modello_rand_for.pkl']"
      ]
     },
     "execution_count": 257,
     "metadata": {},
     "output_type": "execute_result"
    }
   ],
   "source": [
    "import joblib\n",
    "joblib.dump(rndfor, 'modello_rand_for.pkl', compress=9)"
   ]
  },
  {
   "cell_type": "code",
   "execution_count": 214,
   "metadata": {
    "collapsed": false
   },
   "outputs": [],
   "source": [
    "from sktime.classification.sklearn import RotationForest"
   ]
  },
  {
   "cell_type": "code",
   "execution_count": 138,
   "metadata": {
    "collapsed": false
   },
   "outputs": [
    {
     "data": {
      "text/plain": [
       "RotationForest(n_estimators=10)"
      ]
     },
     "execution_count": 138,
     "metadata": {},
     "output_type": "execute_result"
    }
   ],
   "source": [
    "clf = RotationForest(n_estimators=10)\n",
    "clf.fit(X_train, y_train)"
   ]
  },
  {
   "cell_type": "code",
   "execution_count": 139,
   "metadata": {
    "collapsed": false
   },
   "outputs": [
    {
     "name": "stdout",
     "output_type": "stream",
     "text": [
      "Accuracy_model:  0.7940941739824421\n",
      "              precision    recall  f1-score   support\n",
      "\n",
      "           0       0.80      0.74      0.77       260\n",
      "           1       0.77      0.88      0.82       188\n",
      "           2       0.79      0.82      0.80       202\n",
      "           3       0.91      0.82      0.86       229\n",
      "           4       0.83      0.80      0.81       199\n",
      "           5       0.65      0.71      0.68       175\n",
      "\n",
      "    accuracy                           0.79      1253\n",
      "   macro avg       0.79      0.80      0.79      1253\n",
      "weighted avg       0.80      0.79      0.79      1253\n",
      "\n"
     ]
    }
   ],
   "source": [
    "classificazione_previsione(clf,X_test,y_test)"
   ]
  },
  {
   "cell_type": "code",
   "execution_count": 140,
   "metadata": {
    "collapsed": false
   },
   "outputs": [
    {
     "name": "stdout",
     "output_type": "stream",
     "text": [
      "Accuracy_model:  0.8467677573822825\n",
      "              precision    recall  f1-score   support\n",
      "\n",
      "           0       0.85      0.82      0.83       260\n",
      "           1       0.84      0.90      0.87       188\n",
      "           2       0.85      0.86      0.86       202\n",
      "           3       0.93      0.89      0.91       229\n",
      "           4       0.89      0.82      0.85       199\n",
      "           5       0.71      0.79      0.75       175\n",
      "\n",
      "    accuracy                           0.85      1253\n",
      "   macro avg       0.85      0.85      0.85      1253\n",
      "weighted avg       0.85      0.85      0.85      1253\n",
      "\n"
     ]
    }
   ],
   "source": [
    "classificazione_previsione(rndfor,X_test,y_test)"
   ]
  },
  {
   "cell_type": "code",
   "execution_count": 3,
   "metadata": {
    "collapsed": false
   },
   "outputs": [
    {
     "name": "stdout",
     "output_type": "stream",
     "text": [
      "Scikit-learn version: 1.0.2\n"
     ]
    }
   ],
   "source": [
    "print('Scikit-learn version:', sklearn.__version__)"
   ]
  },
  {
   "cell_type": "code",
   "execution_count": null,
   "metadata": {
    "collapsed": false
   },
   "outputs": [],
   "source": []
  }
 ],
 "metadata": {
  "kernelspec": {
   "display_name": "Python 3",
   "language": "python",
   "name": "python3"
  },
  "language_info": {
   "codemirror_mode": {
    "name": "ipython",
    "version": 3
   },
   "file_extension": ".py",
   "mimetype": "text/x-python",
   "name": "python",
   "nbconvert_exporter": "python",
   "pygments_lexer": "ipython3",
   "version": "3.10.12"
  }
 },
 "nbformat": 4,
 "nbformat_minor": 0
}
